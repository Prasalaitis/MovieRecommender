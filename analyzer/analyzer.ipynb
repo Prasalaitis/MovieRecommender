{
 "cells": [
  {
   "cell_type": "code",
   "execution_count": 1,
   "id": "2741445b-044c-4c53-b774-f0e6b799522f",
   "metadata": {
    "ExecuteTime": {
     "end_time": "2024-04-08T10:33:48.349281600Z",
     "start_time": "2024-04-08T10:33:45.142389200Z"
    }
   },
   "outputs": [],
   "source": [
    "import os\n",
    "from dotenv import load_dotenv\n",
    "from api.data_api import DataAPI\n",
    "import pandas as pd\n",
    "\n",
    "# Load environment variables (if you're using a .env file)\n",
    "load_dotenv()\n",
    "\n",
    "# Database configuration\n",
    "db_config = {\n",
    "    'host': os.getenv('NETFLIX_DB_HOST'),\n",
    "    'database': os.getenv('NETFLIX_DB_NAME'),\n",
    "    'user': os.getenv('NETFLIX_DB_USER'),\n",
    "    'password': os.getenv('NETFLIX_DB_PASSWORD')\n",
    "}\n",
    "\n",
    "# Initialize the API\n",
    "api = DataAPI(db_config)"
   ]
  },
  {
   "cell_type": "code",
   "execution_count": 3,
   "id": "21109609-608f-421a-8c61-6afd4421a16c",
   "metadata": {
    "ExecuteTime": {
     "end_time": "2024-04-08T10:48:08.057588700Z",
     "start_time": "2024-04-08T10:48:08.019928600Z"
    }
   },
   "outputs": [
    {
     "data": {
      "text/plain": "   index                                     TITLE  RELEASE_YEAR  SCORE  \\\n0      0  David Attenborough: A Life on Our Planet          2020    9.0   \n1      1                                 Inception          2010    8.8   \n2      2                              Forrest Gump          1994    8.8   \n3      3                                Anbe Sivam          2003    8.7   \n4      4                        Bo Burnham: Inside          2021    8.7   \n\n   NUMBER_OF_VOTES  DURATION   MAIN_GENRE MAIN_PRODUCTION  \n0            31180        83  documentary              GB  \n1          2268288       148        scifi              GB  \n2          1994599       142        drama              US  \n3            20595       160       comedy              IN  \n4            44074        87       comedy              US  ",
      "text/html": "<div>\n<style scoped>\n    .dataframe tbody tr th:only-of-type {\n        vertical-align: middle;\n    }\n\n    .dataframe tbody tr th {\n        vertical-align: top;\n    }\n\n    .dataframe thead th {\n        text-align: right;\n    }\n</style>\n<table border=\"1\" class=\"dataframe\">\n  <thead>\n    <tr style=\"text-align: right;\">\n      <th></th>\n      <th>index</th>\n      <th>TITLE</th>\n      <th>RELEASE_YEAR</th>\n      <th>SCORE</th>\n      <th>NUMBER_OF_VOTES</th>\n      <th>DURATION</th>\n      <th>MAIN_GENRE</th>\n      <th>MAIN_PRODUCTION</th>\n    </tr>\n  </thead>\n  <tbody>\n    <tr>\n      <th>0</th>\n      <td>0</td>\n      <td>David Attenborough: A Life on Our Planet</td>\n      <td>2020</td>\n      <td>9.0</td>\n      <td>31180</td>\n      <td>83</td>\n      <td>documentary</td>\n      <td>GB</td>\n    </tr>\n    <tr>\n      <th>1</th>\n      <td>1</td>\n      <td>Inception</td>\n      <td>2010</td>\n      <td>8.8</td>\n      <td>2268288</td>\n      <td>148</td>\n      <td>scifi</td>\n      <td>GB</td>\n    </tr>\n    <tr>\n      <th>2</th>\n      <td>2</td>\n      <td>Forrest Gump</td>\n      <td>1994</td>\n      <td>8.8</td>\n      <td>1994599</td>\n      <td>142</td>\n      <td>drama</td>\n      <td>US</td>\n    </tr>\n    <tr>\n      <th>3</th>\n      <td>3</td>\n      <td>Anbe Sivam</td>\n      <td>2003</td>\n      <td>8.7</td>\n      <td>20595</td>\n      <td>160</td>\n      <td>comedy</td>\n      <td>IN</td>\n    </tr>\n    <tr>\n      <th>4</th>\n      <td>4</td>\n      <td>Bo Burnham: Inside</td>\n      <td>2021</td>\n      <td>8.7</td>\n      <td>44074</td>\n      <td>87</td>\n      <td>comedy</td>\n      <td>US</td>\n    </tr>\n  </tbody>\n</table>\n</div>"
     },
     "execution_count": 3,
     "metadata": {},
     "output_type": "execute_result"
    }
   ],
   "source": [
    "# Example of a SELECT query\n",
    "query = \"SELECT * FROM best_movies LIMIT 5\"\n",
    "result = api.select_data(query)\n",
    "\n",
    "# Display the result as a DataFrame\n",
    "pd.DataFrame(result)\n",
    "pd.DataFrame(result).head()"
   ]
  },
  {
   "cell_type": "code",
   "execution_count": null,
   "id": "0bef6c0d-038a-43a5-984b-38c7b0bd9e37",
   "metadata": {},
   "outputs": [],
   "source": []
  }
 ],
 "metadata": {
  "kernelspec": {
   "display_name": "Python 3 (ipykernel)",
   "language": "python",
   "name": "python3"
  },
  "language_info": {
   "codemirror_mode": {
    "name": "ipython",
    "version": 3
   },
   "file_extension": ".py",
   "mimetype": "text/x-python",
   "name": "python",
   "nbconvert_exporter": "python",
   "pygments_lexer": "ipython3",
   "version": "3.11.5"
  }
 },
 "nbformat": 4,
 "nbformat_minor": 5
}
